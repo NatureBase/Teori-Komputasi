{
  "nbformat": 4,
  "nbformat_minor": 0,
  "metadata": {
    "colab": {
      "provenance": [],
      "authorship_tag": "ABX9TyPzrRJPTUHeMkkllcmN57aZ",
      "include_colab_link": true
    },
    "kernelspec": {
      "name": "python3",
      "display_name": "Python 3"
    },
    "language_info": {
      "name": "python"
    }
  },
  "cells": [
    {
      "cell_type": "markdown",
      "metadata": {
        "id": "view-in-github",
        "colab_type": "text"
      },
      "source": [
        "<a href=\"https://colab.research.google.com/github/NatureBase/Teori-Komputasi/blob/main/Tugas1_no4.ipynb\" target=\"_parent\"><img src=\"https://colab.research.google.com/assets/colab-badge.svg\" alt=\"Open In Colab\"/></a>"
      ]
    },
    {
      "cell_type": "code",
      "execution_count": 3,
      "metadata": {
        "colab": {
          "base_uri": "https://localhost:8080/"
        },
        "id": "t0RE2JIf2cGq",
        "outputId": "a9c6f15a-457b-459f-e6ed-a2909943954a"
      },
      "outputs": [
        {
          "output_type": "stream",
          "name": "stdout",
          "text": [
            "First binary number: 10001\n",
            "Second binary number: 11101\n",
            "101110\n"
          ]
        }
      ],
      "source": [
        "# Question 1\n",
        "import itertools\n",
        "\n",
        "p0c0 = 0, {}\n",
        "p1c0 = 1, {}\n",
        "p0c1 = 0, {}\n",
        "p1c1 = 1, {}\n",
        "\n",
        "# Transition between process state\n",
        "\n",
        "p0c0[1].update({(0, 0): p0c0, (1, 0): p1c0,\n",
        "                (0, 1): p1c0, (1, 1): p0c1})\n",
        "p1c0[1].update({(0, 0): p0c0, (1, 0): p1c0,\n",
        "                (0, 1): p1c0, (1, 1): p0c1})\n",
        "p0c1[1].update({(0, 0): p1c0, (1, 0): p0c1,\n",
        "                (0, 1): p0c1, (1, 1): p1c1})\n",
        "p1c1[1].update({(0, 0): p1c0, (1, 0): p0c1,\n",
        "                (0, 1): p0c1, (1, 1): p1c1})\n",
        "\n",
        "def add(x, y):\n",
        "  x = map(int, reversed(x))\n",
        "  y = map(int, reversed(y))\n",
        "  z = []\n",
        "  \n",
        "  # Simulated automata \n",
        "  value, transition = p0c0\n",
        "  for r, s in itertools.zip_longest(x, y, fillvalue=0):\n",
        "    value, transition = transition[r, s]\n",
        "    z.append(value)\n",
        "  \n",
        "  z.append(transition[0, 0][0])\n",
        "  return ''.join(map(str, reversed(z)))\n",
        "\n",
        "binNum1 = str(input(\"First binary number: \"))\n",
        "binNum2 = str(input(\"Second binary number: \"))\n",
        "print(add(binNum1, binNum2))"
      ]
    },
    {
      "cell_type": "code",
      "source": [
        "# Question 2\n",
        "\n"
      ],
      "metadata": {
        "id": "jOALqMxQAEMI"
      },
      "execution_count": null,
      "outputs": []
    }
  ]
}
{
  "nbformat": 4,
  "nbformat_minor": 0,
  "metadata": {
    "colab": {
      "provenance": [],
      "collapsed_sections": [],
      "authorship_tag": "ABX9TyOrFGAb1qx5umpsZTPXLSYJ",
      "include_colab_link": true
    },
    "kernelspec": {
      "name": "python3",
      "display_name": "Python 3"
    },
    "language_info": {
      "name": "python"
    }
  },
  "cells": [
    {
      "cell_type": "markdown",
      "metadata": {
        "id": "view-in-github",
        "colab_type": "text"
      },
      "source": [
        "<a href=\"https://colab.research.google.com/github/NatureBase/Teori-Komputasi/blob/main/Tugas1_no4.ipynb\" target=\"_parent\"><img src=\"https://colab.research.google.com/assets/colab-badge.svg\" alt=\"Open In Colab\"/></a>"
      ]
    },
    {
      "cell_type": "code",
      "execution_count": null,
      "metadata": {
        "colab": {
          "base_uri": "https://localhost:8080/"
        },
        "id": "t0RE2JIf2cGq",
        "outputId": "a9c6f15a-457b-459f-e6ed-a2909943954a"
      },
      "outputs": [
        {
          "output_type": "stream",
          "name": "stdout",
          "text": [
            "First binary number: 10001\n",
            "Second binary number: 11101\n",
            "101110\n"
          ]
        }
      ],
      "source": [
        "# Question 1\n",
        "import itertools\n",
        "\n",
        "p0c0 = 0, {}\n",
        "p1c0 = 1, {}\n",
        "p0c1 = 0, {}\n",
        "p1c1 = 1, {}\n",
        "\n",
        "# Transition between process state\n",
        "\n",
        "p0c0[1].update({(0, 0): p0c0, (1, 0): p1c0,\n",
        "                (0, 1): p1c0, (1, 1): p0c1})\n",
        "p1c0[1].update({(0, 0): p0c0, (1, 0): p1c0,\n",
        "                (0, 1): p1c0, (1, 1): p0c1})\n",
        "p0c1[1].update({(0, 0): p1c0, (1, 0): p0c1,\n",
        "                (0, 1): p0c1, (1, 1): p1c1})\n",
        "p1c1[1].update({(0, 0): p1c0, (1, 0): p0c1,\n",
        "                (0, 1): p0c1, (1, 1): p1c1})\n",
        "\n",
        "def add(x, y):\n",
        "  x = map(int, reversed(x))\n",
        "  y = map(int, reversed(y))\n",
        "  z = []\n",
        "  \n",
        "  # Simulated automata \n",
        "  value, transition = p0c0\n",
        "  for r, s in itertools.zip_longest(x, y, fillvalue=0):\n",
        "    value, transition = transition[r, s]\n",
        "    z.append(value)\n",
        "  \n",
        "  z.append(transition[0, 0][0])\n",
        "  return ''.join(map(str, reversed(z)))\n",
        "\n",
        "binNum1 = str(input(\"First binary number: \"))\n",
        "binNum2 = str(input(\"Second binary number: \"))\n",
        "print(add(binNum1, binNum2))"
      ]
    },
    {
      "cell_type": "code",
      "source": [
        "# Question 2\n",
        "\n",
        "def ques2DFA(s):\n",
        "  init_state = 0\n",
        "  final_state = 0\n",
        "  prev_state = 0\n",
        "\n",
        "  for i in range(len(s)):\n",
        "    if ((s[i] == 'a' and prev_state == 0) or \n",
        "        (s[i] == 'a' and prev_state == 3)):\n",
        "      final_state = 1\n",
        "    elif ((s[i] == 'a' and prev_state == 1) or \n",
        "          (s[i] == 'a' and prev_state == 2)):\n",
        "      final_state = 2\n",
        "    elif ((s[i] == 'b' and prev_state == 0) or \n",
        "          (s[i] == 'b' and prev_state == 1) or\n",
        "          (s[i] == 'b' and prev_state == 2)):\n",
        "      final_state = 3\n",
        "    elif ((s[i] == 'b' and prev_state == 3) or \n",
        "          (s[i] == 'b' and prev_state == 4)):\n",
        "      final_state = 4\n",
        "    elif (s[i] == 'a' and prev_state == 4):\n",
        "      final_state = 0\n",
        "\n",
        "    prev_state = final_state\n",
        "  \n",
        "  if (final_state == 2 or final_state == 4):\n",
        "    print(\"accepted\")\n",
        "  else:\n",
        "    print(\"Not Accepted\")\n",
        "\n",
        "if __name__ == '__main__':\n",
        "\n",
        "  s = str(input(\"Given string: \"))\n",
        "  ques2DFA(s)"
      ],
      "metadata": {
        "id": "jOALqMxQAEMI",
        "colab": {
          "base_uri": "https://localhost:8080/"
        },
        "outputId": "5eeb9faa-edef-47ef-918f-076910cae452"
      },
      "execution_count": 4,
      "outputs": [
        {
          "output_type": "stream",
          "name": "stdout",
          "text": [
            "Given string: baabbaabbaaaabb\n",
            "accepted\n"
          ]
        }
      ]
    },
    {
      "cell_type": "code",
      "source": [
        "# Question 3\n",
        "\n",
        "def ques3DFA(s):\n",
        "  init_state = 0\n",
        "  final_state = 0\n",
        "  prev_state = 0\n",
        "\n",
        "  if len(s) > 0 :\n",
        "    for i in range(len(s)):\n",
        "      if ((s[i] == 'a' and prev_state == 0) or\n",
        "          (s[i] == 'b' and prev_state == 3)):\n",
        "        final_state = 1\n",
        "      elif ((s[i] == 'a' and prev_state == 3) or\n",
        "            (s[i] == 'b' and prev_state == 0)):\n",
        "        final_state = 2\n",
        "      elif ((s[i] == 'a' and prev_state == 2) or\n",
        "            (s[i] == 'b' and prev_state == 1)):\n",
        "        final_state = 3\n",
        "      elif ((s[i] == 'a' and prev_state == 1) or\n",
        "            (s[i] == 'b' and prev_state == 2)):\n",
        "        final_state = 0\n",
        "      \n",
        "      prev_state = final_state\n",
        "\n",
        "    if (final_state == 0):\n",
        "      print(\"Accepted\")\n",
        "    else:\n",
        "      print(\"Not Accepted\")\n",
        "    \n",
        "  else:\n",
        "    print(\"No input is given. Please give an input.\")\n",
        "\n",
        "if __name__ == '__main__':\n",
        "  s = str(input(\"Given string: \"))\n",
        "  ques3DFA(s)"
      ],
      "metadata": {
        "colab": {
          "base_uri": "https://localhost:8080/"
        },
        "id": "-By2407BHfvN",
        "outputId": "2014a6b4-4791-4af7-ba9c-4826f5496e03"
      },
      "execution_count": 9,
      "outputs": [
        {
          "output_type": "stream",
          "name": "stdout",
          "text": [
            "Given string: bbabaaba\n",
            "Accepted\n"
          ]
        }
      ]
    },
    {
      "cell_type": "code",
      "source": [],
      "metadata": {
        "id": "lm3u7JqEKZjj"
      },
      "execution_count": null,
      "outputs": []
    }
  ]
}